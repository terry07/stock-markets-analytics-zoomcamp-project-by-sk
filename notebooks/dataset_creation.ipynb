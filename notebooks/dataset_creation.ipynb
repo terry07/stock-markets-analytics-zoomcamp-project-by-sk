{
 "cells": [
  {
   "cell_type": "markdown",
   "id": "d9a67438",
   "metadata": {},
   "source": [
    "## Feature engineering part"
   ]
  },
  {
   "cell_type": "code",
   "execution_count": null,
   "id": "05ed996f",
   "metadata": {},
   "outputs": [],
   "source": [
    "import pandas as pd\n",
    "import requests\n",
    "import yfinance as yf\n",
    "from bs4 import BeautifulSoup"
   ]
  },
  {
   "cell_type": "code",
   "execution_count": 2,
   "id": "ceb4ea6f",
   "metadata": {},
   "outputs": [
    {
     "name": "stdout",
     "output_type": "stream",
     "text": [
      "  No. Symbol           Company Name Market Cap Stock Price % Change  Revenue\n",
      "0   1   NVDA     NVIDIA Corporation  4,257.60B      175.21   -1.43%  165.22B\n",
      "1   2   MSFT  Microsoft Corporation  3,817.45B      513.57   -0.35%  281.72B\n",
      "2   3   AAPL             Apple Inc.  3,547.08B      239.02    0.98%  408.63B\n",
      "3   4   GOOG          Alphabet Inc.  3,043.79B      251.25   -0.20%  371.40B\n",
      "4   5  GOOGL          Alphabet Inc.  3,035.59B      251.00   -0.24%  371.40B\n"
     ]
    }
   ],
   "source": [
    "url = \"https://stockanalysis.com/list/nasdaq-100-stocks/\"\n",
    "response = requests.get(url)\n",
    "soup = BeautifulSoup(response.text, \"lxml\")\n",
    "\n",
    "table = soup.find('table')\n",
    "rows = table.find_all('tr')\n",
    "\n",
    "# Make sure to call find_all on the first row only for headers\n",
    "headers = [th.text.strip() for th in rows[0].find_all('th')]\n",
    "data = []\n",
    "for row in rows[1:]:\n",
    "    cols = [td.text.strip() for td in row.find_all('td')]\n",
    "    if cols:\n",
    "        data.append(cols)\n",
    "\n",
    "df = pd.DataFrame(data, columns=headers)\n",
    "print(df.head())\n"
   ]
  },
  {
   "cell_type": "code",
   "execution_count": 3,
   "id": "d7869658",
   "metadata": {},
   "outputs": [],
   "source": [
    "tickers_list =  df['Symbol'].tolist()[0:1]\n",
    "start_date = '2023-01-01'\n",
    "end_date = '2024-01-01'"
   ]
  },
  {
   "cell_type": "code",
   "execution_count": 4,
   "id": "69e3d137",
   "metadata": {},
   "outputs": [
    {
     "name": "stdout",
     "output_type": "stream",
     "text": [
      "(250, 7)\n"
     ]
    }
   ],
   "source": [
    "for i in tickers_list:\n",
    "  data = yf.Ticker(i).history(start=start_date, end=end_date, interval='1d')\n",
    "  print(data.shape)"
   ]
  }
 ],
 "metadata": {
  "kernelspec": {
   "display_name": "top24",
   "language": "python",
   "name": "python3"
  },
  "language_info": {
   "codemirror_mode": {
    "name": "ipython",
    "version": 3
   },
   "file_extension": ".py",
   "mimetype": "text/x-python",
   "name": "python",
   "nbconvert_exporter": "python",
   "pygments_lexer": "ipython3",
   "version": "3.12.0"
  }
 },
 "nbformat": 4,
 "nbformat_minor": 5
}
